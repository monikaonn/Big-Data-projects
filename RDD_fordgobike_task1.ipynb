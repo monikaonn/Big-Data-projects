{
 "cells": [
  {
   "cell_type": "code",
   "execution_count": 1,
   "metadata": {
    "scrolled": true
   },
   "outputs": [
    {
     "name": "stderr",
     "output_type": "stream",
     "text": [
      "21/09/20 11:52:42 WARN NativeCodeLoader: Unable to load native-hadoop library for your platform... using builtin-java classes where applicable\n",
      "Using Spark's default log4j profile: org/apache/spark/log4j-defaults.properties\n",
      "Setting default log level to \"WARN\".\n",
      "To adjust logging level use sc.setLogLevel(newLevel). For SparkR, use setLogLevel(newLevel).\n"
     ]
    }
   ],
   "source": [
    "import pyspark\n",
    "sc = pyspark.SparkContext(master=\"local[4]\",appName=\"RDDfun\")"
   ]
  },
  {
   "cell_type": "markdown",
   "metadata": {},
   "source": [
    "## Ford GoBike's trip data\n",
    "\n",
    "https://www.fordgobike.com/system-data\n",
    "\n",
    "\n",
    "Each trip is anonymized and includes:\n",
    "- Trip Duration (seconds)\n",
    "- Start Time and Date\n",
    "- End Time and Date\n",
    "- Start Station ID\n",
    "- Start Station Name\n",
    "- Start Station Latitude\n",
    "- Start Station Longitude\n",
    "- End Station ID\n",
    "- End Station Name\n",
    "- End Station Latitude\n",
    "- End Station Longitude\n",
    "- Bike ID\n",
    "- User Type (Subscriber or Customer – “Subscriber” = Member or “Customer” = Casual)\n",
    "- Member Year of Birth\n",
    "- Member Gender\n"
   ]
  },
  {
   "cell_type": "code",
   "execution_count": 2,
   "metadata": {},
   "outputs": [
    {
     "name": "stderr",
     "output_type": "stream",
     "text": [
      "                                                                                \r"
     ]
    },
    {
     "data": {
      "text/plain": [
       "['\"duration_sec\",\"start_time\",\"end_time\",\"start_station_id\",\"start_station_name\",\"start_station_latitude\",\"start_station_longitude\",\"end_station_id\",\"end_station_name\",\"end_station_latitude\",\"end_station_longitude\",\"bike_id\",\"user_type\",\"member_birth_year\",\"member_gender\"',\n",
       " '\"80110\",\"2017-12-31 16:57:39.6540\",\"2018-01-01 15:12:50.2450\",\"74\",\"Laguna St at Hayes St\",\"37.776434819204745\",\"-122.42624402046204\",\"43\",\"San Francisco Public Library (Grove St at Hyde St)\",\"37.7787677\",\"-122.4159292\",\"96\",\"Customer\",\"1987\",\"Male\"']"
      ]
     },
     "execution_count": 2,
     "metadata": {},
     "output_type": "execute_result"
    }
   ],
   "source": [
    "rawData = sc.textFile(\"2017-fordgobike-tripdata.csv\")\n",
    "rawData.take(2)"
   ]
  },
  {
   "cell_type": "code",
   "execution_count": 3,
   "metadata": {},
   "outputs": [
    {
     "name": "stderr",
     "output_type": "stream",
     "text": [
      "                                                                                \r"
     ]
    },
    {
     "data": {
      "text/plain": [
       "['duration_sec',\n",
       " 'start_time',\n",
       " 'end_time',\n",
       " 'start_station_id',\n",
       " 'start_station_name',\n",
       " 'start_station_latitude',\n",
       " 'start_station_longitude',\n",
       " 'end_station_id',\n",
       " 'end_station_name',\n",
       " 'end_station_latitude',\n",
       " 'end_station_longitude',\n",
       " 'bike_id',\n",
       " 'user_type',\n",
       " 'member_birth_year',\n",
       " 'member_gender']"
      ]
     },
     "execution_count": 3,
     "metadata": {},
     "output_type": "execute_result"
    }
   ],
   "source": [
    "col_names = rawData.filter(lambda x: x.startswith('\"duration'))\\\n",
    ".flatMap(lambda x: x.split(\",\")).map(lambda x: x[1:-1]).collect()\n",
    "col_names"
   ]
  },
  {
   "cell_type": "markdown",
   "metadata": {},
   "source": [
    "[datetime](https://docs.python.org/3/library/datetime.html#module-datetime)"
   ]
  },
  {
   "cell_type": "code",
   "execution_count": 4,
   "metadata": {},
   "outputs": [],
   "source": [
    "from datetime import datetime, timedelta\n",
    "dt_format = \"%Y-%m-%d %H:%M:%S.%f\""
   ]
  },
  {
   "cell_type": "markdown",
   "metadata": {},
   "source": [
    "++++++++++++++++++++++++++++++++++++++++++++++++++++++++++++++++++++++++++++++++++++++++++++++++++++++++++++++++++"
   ]
  },
  {
   "cell_type": "markdown",
   "metadata": {},
   "source": [
    "> **TODO**: Utwórz RDD `transData` gdzie elementami są listy stringów (odfiltruj element zawierający nazwy)"
   ]
  },
  {
   "cell_type": "code",
   "execution_count": 5,
   "metadata": {},
   "outputs": [
    {
     "data": {
      "text/plain": [
       "['80110',\n",
       " '2017-12-31 16:57:39.6540',\n",
       " '2018-01-01 15:12:50.2450',\n",
       " '74',\n",
       " 'Laguna St at Hayes St',\n",
       " '37.776434819204745',\n",
       " '-122.42624402046204',\n",
       " '43',\n",
       " 'San Francisco Public Library (Grove St at Hyde St)',\n",
       " '37.7787677',\n",
       " '-122.4159292',\n",
       " '96',\n",
       " 'Customer',\n",
       " '1987',\n",
       " 'Male']"
      ]
     },
     "execution_count": 5,
     "metadata": {},
     "output_type": "execute_result"
    }
   ],
   "source": [
    "transData = rawData.filter(lambda x: not x.startswith('\"duration')).map(lambda row: [x[1:-1] for x in row.split(\",\")])\n",
    "transData.take(1)[0]"
   ]
  },
  {
   "cell_type": "markdown",
   "metadata": {},
   "source": [
    "> **TODO**: Sprawdź czy, gdzie i w ilu rekordach występują braki danych w RDD `transData` (hint: elementami RDD są listy stringów)"
   ]
  },
  {
   "cell_type": "code",
   "execution_count": 6,
   "metadata": {},
   "outputs": [
    {
     "name": "stderr",
     "output_type": "stream",
     "text": [
      "                                                                                \r"
     ]
    },
    {
     "data": {
      "text/plain": [
       "66541"
      ]
     },
     "execution_count": 6,
     "metadata": {},
     "output_type": "execute_result"
    }
   ],
   "source": [
    "transData.filter(lambda x: \"\" in x).count()"
   ]
  },
  {
   "cell_type": "code",
   "execution_count": 12,
   "metadata": {},
   "outputs": [
    {
     "name": "stderr",
     "output_type": "stream",
     "text": [
      "                                                                                \r"
     ]
    },
    {
     "data": {
      "text/plain": [
       "[13, 14]"
      ]
     },
     "execution_count": 12,
     "metadata": {},
     "output_type": "execute_result"
    }
   ],
   "source": [
    "transData.flatMap(lambda row: [i for i, x in enumerate(row) if x == \"\"]).distinct().collect()"
   ]
  },
  {
   "cell_type": "markdown",
   "metadata": {},
   "source": [
    "> **TODO**: Uwzględniając informacje uzyskane w poprzednim ćwiczeniu utwórz RDD `data` którego elementy będą słownikami. Słowniki te mają zawierać klucze o wartościach następujących typów:\n",
    "- 'duration_sec' : \"int\"\n",
    "- 'start_time' : \"datetime\"\n",
    "- 'end_time' : \"datetime\"\n",
    "- 'start_station_id' : \"int\"\n",
    "- 'start_station_name' : \"string\"\n",
    "- 'start_station_latitude' : \"float\"\n",
    "- 'start_station_longitude' : \"float\"\n",
    "- 'end_station_id' : \"int\"\n",
    "- 'end_station_name' : \"string\"\n",
    "- 'end_station_latitude' : \"float\"\n",
    "- 'end_station_longitude' : \"float\"\n",
    "- 'bike_id' : \"int\"\n",
    "- 'user_type' : \"string\"\n",
    "- 'member_birth_year' : \"int\"\n",
    "- 'member_gender' : \"string\"\n",
    "\n",
    "> (hint: autor zadania rozwiązał je pisząc funkcję przekształcającą elementy w RDD)"
   ]
  },
  {
   "cell_type": "code",
   "execution_count": 13,
   "metadata": {},
   "outputs": [
    {
     "data": {
      "text/plain": [
       "['int',\n",
       " 'datetime',\n",
       " 'datetime',\n",
       " 'int',\n",
       " 'string',\n",
       " 'float',\n",
       " 'float',\n",
       " 'int',\n",
       " 'string',\n",
       " 'float',\n",
       " 'float',\n",
       " 'int',\n",
       " 'string',\n",
       " 'int',\n",
       " 'string']"
      ]
     },
     "execution_count": 13,
     "metadata": {},
     "output_type": "execute_result"
    }
   ],
   "source": [
    "struct = [\"int\", \n",
    "          \"datetime\", \n",
    "          \"datetime\", \n",
    "          \"int\", \n",
    "          \"string\", \n",
    "          \"float\", \n",
    "          \"float\", \n",
    "          \"int\", \n",
    "          \"string\", \n",
    "          \"float\", \n",
    "          \"float\", \n",
    "          \"int\", \n",
    "          \"string\", \n",
    "          \"int\", \n",
    "          \"string\"]\n",
    "struct"
   ]
  },
  {
   "cell_type": "code",
   "execution_count": 14,
   "metadata": {},
   "outputs": [
    {
     "data": {
      "text/plain": [
       "['duration_sec',\n",
       " 'start_time',\n",
       " 'end_time',\n",
       " 'start_station_id',\n",
       " 'start_station_name',\n",
       " 'start_station_latitude',\n",
       " 'start_station_longitude',\n",
       " 'end_station_id',\n",
       " 'end_station_name',\n",
       " 'end_station_latitude',\n",
       " 'end_station_longitude',\n",
       " 'bike_id',\n",
       " 'user_type',\n",
       " 'member_birth_year',\n",
       " 'member_gender']"
      ]
     },
     "execution_count": 14,
     "metadata": {},
     "output_type": "execute_result"
    }
   ],
   "source": [
    "col_names"
   ]
  },
  {
   "cell_type": "code",
   "execution_count": 15,
   "metadata": {},
   "outputs": [],
   "source": [
    "def transform_element(RDD_elem, elem_struct, names, dt_fmt):\n",
    "    out = dict()\n",
    "    for elem, e_type, name in zip(RDD_elem, elem_struct, names):\n",
    "        if e_type == \"int\":\n",
    "            if elem == \"\":\n",
    "                elem = 9999\n",
    "            else:\n",
    "                elem = int(elem)\n",
    "        elif e_type == \"datetime\":\n",
    "            elem = datetime.strptime(elem, dt_fmt)\n",
    "        elif e_type == \"float\":\n",
    "            elem = float(elem)\n",
    "        out[name] = elem\n",
    "    return out"
   ]
  },
  {
   "cell_type": "code",
   "execution_count": 16,
   "metadata": {},
   "outputs": [
    {
     "data": {
      "text/plain": [
       "{'duration_sec': 80110,\n",
       " 'start_time': datetime.datetime(2017, 12, 31, 16, 57, 39, 654000),\n",
       " 'end_time': datetime.datetime(2018, 1, 1, 15, 12, 50, 245000),\n",
       " 'start_station_id': 74,\n",
       " 'start_station_name': 'Laguna St at Hayes St',\n",
       " 'start_station_latitude': 37.776434819204745,\n",
       " 'start_station_longitude': -122.42624402046204,\n",
       " 'end_station_id': 43,\n",
       " 'end_station_name': 'San Francisco Public Library (Grove St at Hyde St)',\n",
       " 'end_station_latitude': 37.7787677,\n",
       " 'end_station_longitude': -122.4159292,\n",
       " 'bike_id': 96,\n",
       " 'user_type': 'Customer',\n",
       " 'member_birth_year': 1987,\n",
       " 'member_gender': 'Male'}"
      ]
     },
     "execution_count": 16,
     "metadata": {},
     "output_type": "execute_result"
    }
   ],
   "source": [
    "x = transData.first()\n",
    "\n",
    "transform_element(x, struct, col_names, dt_format)"
   ]
  },
  {
   "cell_type": "code",
   "execution_count": 17,
   "metadata": {},
   "outputs": [],
   "source": [
    "data = transData.map(lambda row: transform_element(row, struct, col_names, dt_format))"
   ]
  },
  {
   "cell_type": "code",
   "execution_count": 18,
   "metadata": {},
   "outputs": [
    {
     "data": {
      "text/plain": [
       "{'duration_sec': 80110,\n",
       " 'start_time': datetime.datetime(2017, 12, 31, 16, 57, 39, 654000),\n",
       " 'end_time': datetime.datetime(2018, 1, 1, 15, 12, 50, 245000),\n",
       " 'start_station_id': 74,\n",
       " 'start_station_name': 'Laguna St at Hayes St',\n",
       " 'start_station_latitude': 37.776434819204745,\n",
       " 'start_station_longitude': -122.42624402046204,\n",
       " 'end_station_id': 43,\n",
       " 'end_station_name': 'San Francisco Public Library (Grove St at Hyde St)',\n",
       " 'end_station_latitude': 37.7787677,\n",
       " 'end_station_longitude': -122.4159292,\n",
       " 'bike_id': 96,\n",
       " 'user_type': 'Customer',\n",
       " 'member_birth_year': 1987,\n",
       " 'member_gender': 'Male'}"
      ]
     },
     "execution_count": 18,
     "metadata": {},
     "output_type": "execute_result"
    }
   ],
   "source": [
    "data.first()"
   ]
  },
  {
   "cell_type": "markdown",
   "metadata": {},
   "source": [
    "> **TODO**: Wykonaj cache() na RDD `data`"
   ]
  },
  {
   "cell_type": "code",
   "execution_count": 19,
   "metadata": {},
   "outputs": [
    {
     "data": {
      "text/plain": [
       "PythonRDD[20] at RDD at PythonRDD.scala:53"
      ]
     },
     "execution_count": 19,
     "metadata": {},
     "output_type": "execute_result"
    }
   ],
   "source": [
    "data.cache()"
   ]
  },
  {
   "cell_type": "markdown",
   "metadata": {},
   "source": [
    "> **ZADANIE 1**: Zapoznaj się z danymi:\n",
    "1. Sprawdź rozkład zmiennej \"member_gender\"\n",
    "2. Oblicz minimalny, maksymalny i średni wiek osób wypożyczających rowery\n",
    "3. Oblicz liczbę unikalnych rowerów\n",
    "4. Oblicz liczbę unikalnych stacji\n",
    "5. Sprawdź który rower był wypożyczony najdłużej a który najkrócej w ciągu analizowanego okresu (oraz jak długo)\n",
    "6. Oblicz średni czas pojedynczego wypożyczenia\n",
    "7. Sprawdź pomiędzy którymi stacjami występował największy ruch\n",
    "8. Sprawdź o której godzinie w ciągu dnia wypożyczano najwięcej rowerów\n",
    "9. Sprawdź *średnią liczbę wypożyczeń* dla poszczególnych dni tygodnia"
   ]
  },
  {
   "cell_type": "code",
   "execution_count": 24,
   "metadata": {},
   "outputs": [
    {
     "name": "stderr",
     "output_type": "stream",
     "text": [
      "                                                                                \r"
     ]
    },
    {
     "data": {
      "text/plain": [
       "[('', 66462), ('Male', 348318), ('Female', 98621), ('Other', 6299)]"
      ]
     },
     "execution_count": 24,
     "metadata": {},
     "output_type": "execute_result"
    }
   ],
   "source": [
    "# 1\n",
    "data.map(lambda x: (x[\"member_gender\"], 1)).reduceByKey(lambda x,y: x+y).collect()"
   ]
  },
  {
   "cell_type": "code",
   "execution_count": 28,
   "metadata": {},
   "outputs": [
    {
     "name": "stderr",
     "output_type": "stream",
     "text": [
      "                                                                                \r"
     ]
    },
    {
     "data": {
      "text/plain": [
       "(count: 453159, mean: 40.59521271783174, stdev: 10.513475939682797, max: 135.0, min: 22.0)"
      ]
     },
     "execution_count": 28,
     "metadata": {},
     "output_type": "execute_result"
    }
   ],
   "source": [
    "# 2\n",
    "data.filter(lambda x: x[\"member_birth_year\"] != 9999).map(lambda x: 2021 - x[\"member_birth_year\"]).stats()"
   ]
  },
  {
   "cell_type": "code",
   "execution_count": 30,
   "metadata": {},
   "outputs": [
    {
     "name": "stderr",
     "output_type": "stream",
     "text": [
      "                                                                                \r"
     ]
    },
    {
     "data": {
      "text/plain": [
       "3673"
      ]
     },
     "execution_count": 30,
     "metadata": {},
     "output_type": "execute_result"
    }
   ],
   "source": [
    "# 3\n",
    "data.map(lambda x: x[\"bike_id\"]).distinct().count()"
   ]
  },
  {
   "cell_type": "code",
   "execution_count": 32,
   "metadata": {},
   "outputs": [
    {
     "name": "stderr",
     "output_type": "stream",
     "text": [
      "                                                                                \r"
     ]
    },
    {
     "data": {
      "text/plain": [
       "272"
      ]
     },
     "execution_count": 32,
     "metadata": {},
     "output_type": "execute_result"
    }
   ],
   "source": [
    "# 4\n",
    "data.map(lambda x: x[\"start_station_id\"]).union(data.map(lambda x: x[\"end_station_id\"])).distinct().count()"
   ]
  },
  {
   "cell_type": "code",
   "execution_count": 43,
   "metadata": {},
   "outputs": [
    {
     "name": "stderr",
     "output_type": "stream",
     "text": [
      "                                                                                \r"
     ]
    },
    {
     "data": {
      "text/plain": [
       "[[(722, 70)], [(775, 555010)]]"
      ]
     },
     "execution_count": 43,
     "metadata": {},
     "output_type": "execute_result"
    }
   ],
   "source": [
    "# 5\n",
    "[data.map(lambda x: (x[\"bike_id\"], x[\"duration_sec\"]))\\\n",
    " .reduceByKey(lambda x,y: x+y).takeOrdered(1, (lambda x: x[1])),\n",
    " data.map(lambda x: (x[\"bike_id\"], x[\"duration_sec\"]))\\\n",
    " .reduceByKey(lambda x,y: x+y).takeOrdered(1, (lambda x: -x[1]))]\n"
   ]
  },
  {
   "cell_type": "code",
   "execution_count": 45,
   "metadata": {},
   "outputs": [
    {
     "name": "stderr",
     "output_type": "stream",
     "text": [
      "                                                                                \r"
     ]
    },
    {
     "data": {
      "text/plain": [
       "1099.009520877427"
      ]
     },
     "execution_count": 45,
     "metadata": {},
     "output_type": "execute_result"
    }
   ],
   "source": [
    "# 6\n",
    "data.map(lambda x: x[\"duration_sec\"]).mean()"
   ]
  },
  {
   "cell_type": "code",
   "execution_count": 46,
   "metadata": {},
   "outputs": [
    {
     "name": "stderr",
     "output_type": "stream",
     "text": [
      "                                                                                \r"
     ]
    },
    {
     "data": {
      "text/plain": [
       "[('15-6', 5078)]"
      ]
     },
     "execution_count": 46,
     "metadata": {},
     "output_type": "execute_result"
    }
   ],
   "source": [
    "# 7 ***\n",
    "data.map(lambda x: (str(x[\"start_station_id\"])+\"-\"+str(x[\"end_station_id\"]),1) \\\n",
    "         if x[\"start_station_id\"] > x[\"end_station_id\"] \\\n",
    "         else (str(x[\"end_station_id\"])+\"-\"+str(x[\"start_station_id\"]),1))\\\n",
    ".reduceByKey(lambda x,y: x+y).takeOrdered(1, (lambda x: -x[1]))"
   ]
  },
  {
   "cell_type": "code",
   "execution_count": 47,
   "metadata": {},
   "outputs": [
    {
     "data": {
      "text/plain": [
       "[['San Francisco Ferry Building (Harry Bridges Plaza)'],\n",
       " ['The Embarcadero at Sansome St']]"
      ]
     },
     "execution_count": 47,
     "metadata": {},
     "output_type": "execute_result"
    }
   ],
   "source": [
    "[data.filter(lambda x: x[\"start_station_id\"] == 15).map(lambda x: x[\"start_station_name\"]).take(1),\n",
    "data.filter(lambda x: x[\"start_station_id\"] == 6).map(lambda x: x[\"start_station_name\"]).take(1)]"
   ]
  },
  {
   "cell_type": "code",
   "execution_count": 52,
   "metadata": {},
   "outputs": [
    {
     "name": "stderr",
     "output_type": "stream",
     "text": [
      "                                                                                \r"
     ]
    },
    {
     "data": {
      "text/plain": [
       "[(17, 60111)]"
      ]
     },
     "execution_count": 52,
     "metadata": {},
     "output_type": "execute_result"
    }
   ],
   "source": [
    "# 8\n",
    "data.map(lambda x: (x[\"start_time\"].hour,1)).reduceByKey(lambda x,y: x+y).takeOrdered(1, (lambda x: -x[1]))"
   ]
  },
  {
   "cell_type": "code",
   "execution_count": 65,
   "metadata": {},
   "outputs": [
    {
     "name": "stderr",
     "output_type": "stream",
     "text": [
      "                                                                                \r"
     ]
    },
    {
     "data": {
      "text/plain": [
       "[(1, 3131.153846153846),\n",
       " (2, 3379.423076923077),\n",
       " (3, 3250.074074074074),\n",
       " (4, 3157.1481481481483),\n",
       " (5, 3006.1111111111113),\n",
       " (6, 1884.2222222222222),\n",
       " (7, 1681.148148148148)]"
      ]
     },
     "execution_count": 65,
     "metadata": {},
     "output_type": "execute_result"
    }
   ],
   "source": [
    "# 9\n",
    "data.map(lambda x: (x[\"start_time\"].date(), 1))\\\n",
    ".reduceByKey(lambda x,y: x+y).map(lambda x: (x[0].isoweekday(),x[1]))\\\n",
    ".aggregateByKey((0.,0.), (lambda acc,x: (acc[0] + x, acc[1] + 1)), \\\n",
    "                (lambda acc1, acc2: (acc1[0] + acc2[0], acc1[1] + acc2[1])))\\\n",
    ".mapValues(lambda x: x[0]/x[1]).takeOrdered(7)\n"
   ]
  }
 ],
 "metadata": {
  "kernelspec": {
   "display_name": "Python 3 (ipykernel)",
   "language": "python",
   "name": "python3"
  },
  "language_info": {
   "codemirror_mode": {
    "name": "ipython",
    "version": 3
   },
   "file_extension": ".py",
   "mimetype": "text/x-python",
   "name": "python",
   "nbconvert_exporter": "python",
   "pygments_lexer": "ipython3",
   "version": "3.9.5"
  }
 },
 "nbformat": 4,
 "nbformat_minor": 2
}
