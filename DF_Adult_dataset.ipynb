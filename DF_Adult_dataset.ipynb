{
 "cells": [
  {
   "cell_type": "code",
   "execution_count": 1,
   "metadata": {},
   "outputs": [
    {
     "name": "stderr",
     "output_type": "stream",
     "text": [
      "21/09/21 13:31:07 WARN NativeCodeLoader: Unable to load native-hadoop library for your platform... using builtin-java classes where applicable\n",
      "Using Spark's default log4j profile: org/apache/spark/log4j-defaults.properties\n",
      "Setting default log level to \"WARN\".\n",
      "To adjust logging level use sc.setLogLevel(newLevel). For SparkR, use setLogLevel(newLevel).\n"
     ]
    }
   ],
   "source": [
    "from pyspark.sql import SparkSession\n",
    "from pyspark.sql import Row\n",
    "from pyspark.sql import functions as f\n",
    "from pyspark.sql import Window\n",
    "\n",
    "spark = SparkSession.builder \\\n",
    "    .appName('DataFrame') \\\n",
    "    .master('local[*]') \\\n",
    "    .getOrCreate()"
   ]
  },
  {
   "cell_type": "markdown",
   "metadata": {},
   "source": [
    "----\n",
    "\n",
    "## Adult Data Set\n",
    "\n",
    "https://archive.ics.uci.edu/ml/datasets/adult"
   ]
  },
  {
   "cell_type": "code",
   "execution_count": 2,
   "metadata": {},
   "outputs": [
    {
     "name": "stderr",
     "output_type": "stream",
     "text": [
      "                                                                                \r"
     ]
    },
    {
     "name": "stdout",
     "output_type": "stream",
     "text": [
      "-RECORD 0----------------------------\n",
      " age            | 39                 \n",
      " workclass      | State-gov          \n",
      " education      | Bachelors          \n",
      " education-num  | 13                 \n",
      " marital-status | Never-married      \n",
      " occupation     | Adm-clerical       \n",
      " relationship   | Not-in-family      \n",
      " race           | White              \n",
      " sex            | Male               \n",
      " capital-gain   | 2174               \n",
      " capital-loss   | 0                  \n",
      " hours-per-week | 40                 \n",
      " native-country | United-States      \n",
      " earnings       | <=50K              \n",
      "-RECORD 1----------------------------\n",
      " age            | 50                 \n",
      " workclass      | Self-emp-not-inc   \n",
      " education      | Bachelors          \n",
      " education-num  | 13                 \n",
      " marital-status | Married-civ-spouse \n",
      " occupation     | Exec-managerial    \n",
      " relationship   | Husband            \n",
      " race           | White              \n",
      " sex            | Male               \n",
      " capital-gain   | 0                  \n",
      " capital-loss   | 0                  \n",
      " hours-per-week | 13                 \n",
      " native-country | United-States      \n",
      " earnings       | <=50K              \n",
      "-RECORD 2----------------------------\n",
      " age            | 38                 \n",
      " workclass      | Private            \n",
      " education      | HS-grad            \n",
      " education-num  | 9                  \n",
      " marital-status | Divorced           \n",
      " occupation     | Handlers-cleaners  \n",
      " relationship   | Not-in-family      \n",
      " race           | White              \n",
      " sex            | Male               \n",
      " capital-gain   | 0                  \n",
      " capital-loss   | 0                  \n",
      " hours-per-week | 40                 \n",
      " native-country | United-States      \n",
      " earnings       | <=50K              \n",
      "only showing top 3 rows\n",
      "\n"
     ]
    }
   ],
   "source": [
    "col_names = [\"age\", \"workclass\", \"fnlwgt\", \"education\", \"education-num\",\"marital-status\", \"occupation\", \n",
    "             \"relationship\", \"race\", \"sex\", \"capital-gain\", \"capital-loss\", \"hours-per-week\", \n",
    "             \"native-country\", \"earnings\"]\n",
    "\n",
    "df = spark.read.csv(\"adult.data\", header=False, inferSchema=True, ignoreLeadingWhiteSpace=True)\n",
    "\n",
    "df = df.select(*[f.col(old).alias(new) for old, new in zip(df.columns, col_names)]).drop(\"fnlwgt\").dropna(\"any\")\n",
    "#df = df.toDF(*col_names).drop(\"fnlwgt\").dropna(\"any\")\n",
    "\n",
    "df.show(3, vertical=True)"
   ]
  },
  {
   "cell_type": "markdown",
   "metadata": {},
   "source": [
    "> **ZADANIA**:\n",
    "1. Oblicz średnią `capital-gain` oraz `capital-loss` dla każdej narodowości - wynik uporządkuj malejąco po średnim zysku\n",
    "2. Oblicz jaki procent kobiet zarabia ponad 50K w podziale na wykształcenie - wynik zaokrąglij do 2 miejsc po przecinku\n",
    "3. Oblicz ile godzin średnio w ciągu tygodnia pracują osoby `Never-married` w stosunku do reszty społeczeństwa\n",
    "4. W jakim wieku najczęściej zarabia sie powyżej 50K?\n",
    "5. W podziale ze względu na zmienną `race` oblicz stosunek liczby kobiet do mężczyzn\n",
    "6. Oblicz różnicę pomiędzy średnim czasem pracy osób uzyskujących `capital-gain` a resztą populacji\n",
    "7. Oblicz róznicę wieku do średniego wieku osób z danym poziomem wykształcenia"
   ]
  },
  {
   "cell_type": "code",
   "execution_count": 3,
   "metadata": {},
   "outputs": [],
   "source": [
    "df.createOrReplaceTempView(\"df\")"
   ]
  },
  {
   "cell_type": "code",
   "execution_count": 4,
   "metadata": {},
   "outputs": [
    {
     "name": "stderr",
     "output_type": "stream",
     "text": [
      "[Stage 4:======================================================>(199 + 1) / 200]\r"
     ]
    },
    {
     "name": "stdout",
     "output_type": "stream",
     "text": [
      "+------------------+------------------+------------------+\n",
      "|    native-country|          avg-gain|          avg-loss|\n",
      "+------------------+------------------+------------------+\n",
      "|             India|           3604.92|            131.12|\n",
      "|             Japan|2546.2258064516127| 57.53225806451613|\n",
      "|            Taiwan|2147.0392156862745| 154.8235294117647|\n",
      "|              Iran|2044.6511627906978|126.81395348837209|\n",
      "|             South|         1869.7375|           169.425|\n",
      "|                 ?|1806.5180102915951|118.26586620926244|\n",
      "|            Canada|1504.1322314049587|129.93388429752065|\n",
      "|Dominican-Republic| 1476.057142857143| 25.17142857142857|\n",
      "|            Greece| 1283.896551724138|295.44827586206895|\n",
      "|     United-States|1089.2299280082277| 88.51059307507714|\n",
      "|          Cambodia| 1027.842105263158|183.05263157894737|\n",
      "|       Philippines|1018.3434343434343| 98.95454545454545|\n",
      "|           Germany| 887.0948905109489| 77.97810218978103|\n",
      "|           England| 864.7222222222222| 82.75555555555556|\n",
      "|           Hungary| 716.6153846153846|128.30769230769232|\n",
      "|            Poland| 684.2833333333333| 34.18333333333333|\n",
      "|           Vietnam| 660.5970149253732| 87.29850746268657|\n",
      "|             Italy| 611.5068493150685| 27.08219178082192|\n",
      "|       El-Salvador| 574.3207547169811| 31.11320754716981|\n",
      "|            France| 547.0344827586207|               0.0|\n",
      "+------------------+------------------+------------------+\n",
      "only showing top 20 rows\n",
      "\n"
     ]
    },
    {
     "name": "stderr",
     "output_type": "stream",
     "text": [
      "                                                                                \r"
     ]
    }
   ],
   "source": [
    "# 1 Oblicz średnią capital-gain oraz capital-loss dla każdej narodowości - wynik uporządkuj malejąco po średnim zysku\n",
    "df.groupBy(\"native-country\").agg(f.avg(\"capital-gain\").alias(\"avg-gain\"), f.avg(\"capital-loss\").alias(\"avg-loss\"))\\\n",
    ".orderBy(f.desc(f.col(\"avg-gain\"))).show()"
   ]
  },
  {
   "cell_type": "code",
   "execution_count": 5,
   "metadata": {},
   "outputs": [
    {
     "name": "stdout",
     "output_type": "stream",
     "text": [
      "+------------+-------+\n",
      "|   education|percent|\n",
      "+------------+-------+\n",
      "|   Doctorate|   0.58|\n",
      "| Prof-school|   0.46|\n",
      "|     Masters|   0.33|\n",
      "|   Bachelors|   0.21|\n",
      "|  Assoc-acdm|   0.13|\n",
      "|   Assoc-voc|   0.13|\n",
      "|     HS-grad|   0.07|\n",
      "|Some-college|   0.07|\n",
      "|         9th|   0.03|\n",
      "|        12th|   0.03|\n",
      "|     5th-6th|   0.02|\n",
      "|        11th|   0.02|\n",
      "|        10th|   0.01|\n",
      "|     7th-8th|   0.01|\n",
      "|     1st-4th|    0.0|\n",
      "|   Preschool|    0.0|\n",
      "+------------+-------+\n",
      "\n"
     ]
    },
    {
     "name": "stderr",
     "output_type": "stream",
     "text": [
      "                                                                                \r"
     ]
    }
   ],
   "source": [
    "# 2 Oblicz jaki procent kobiet zarabia ponad 50K w podziale na wykształcenie - wynik zaokrąglij do 2 miejsc po przecinku\n",
    "df.filter(df.sex == \"Female\").withColumn(\"earnings\", f.when(f.col(\"earnings\") == \">50K\", 1).otherwise(0))\\\n",
    ".groupBy(df.education).agg(f.round(f.avg(\"earnings\"),2).alias(\"percent\")).orderBy(f.col(\"percent\"), ascending = False).show()"
   ]
  },
  {
   "cell_type": "code",
   "execution_count": 6,
   "metadata": {},
   "outputs": [
    {
     "name": "stdout",
     "output_type": "stream",
     "text": [
      "+--------------------+-------------------+\n",
      "|      marital-status|avg(hours-per-week)|\n",
      "+--------------------+-------------------+\n",
      "|           Separated|  39.30146341463415|\n",
      "|       Never-married|   36.9399981278667|\n",
      "|Married-spouse-ab...|  39.66985645933014|\n",
      "|            Divorced| 41.246680171055594|\n",
      "|             Widowed|  32.97985901309164|\n",
      "|   Married-AF-spouse| 41.130434782608695|\n",
      "|  Married-civ-spouse|  43.28485576923077|\n",
      "+--------------------+-------------------+\n",
      "\n"
     ]
    }
   ],
   "source": [
    "# 3 Oblicz ile godzin średnio w ciągu tygodnia pracują osoby Never-married w stosunku do reszty społeczeństwa\n",
    "df.groupBy(\"marital-status\").agg(f.avg(\"hours-per-week\")).show()"
   ]
  },
  {
   "cell_type": "code",
   "execution_count": 7,
   "metadata": {},
   "outputs": [
    {
     "name": "stdout",
     "output_type": "stream",
     "text": [
      "+--------------------+-------------------+\n",
      "|Never-married-status|avg(hours-per-week)|\n",
      "+--------------------+-------------------+\n",
      "|       Never-married|   36.9399981278667|\n",
      "|                rest|  42.14526007861779|\n",
      "+--------------------+-------------------+\n",
      "\n"
     ]
    }
   ],
   "source": [
    "# 3.1\n",
    "df.withColumn(\"Never-married-status\", f.when(f.col(\"marital-status\") == \"Never-married\", \"Never-married\").otherwise(\"rest\"))\\\n",
    ".groupBy(\"Never-married-status\").agg(f.avg(\"hours-per-week\")).show()"
   ]
  },
  {
   "cell_type": "code",
   "execution_count": 8,
   "metadata": {},
   "outputs": [
    {
     "name": "stdout",
     "output_type": "stream",
     "text": [
      "+---+----------------+\n",
      "|age|earnings-percent|\n",
      "+---+----------------+\n",
      "| 50|            0.43|\n",
      "+---+----------------+\n",
      "only showing top 1 row\n",
      "\n"
     ]
    }
   ],
   "source": [
    "# 4 W jakim wieku najczęściej zarabia sie powyżej 50K?\n",
    "df.select(\"age\", f.when(f.col(\"earnings\") == \">50K\",1).otherwise(0).alias(\"earnings\")).\\\n",
    "groupBy(\"age\").agg(f.round(f.avg(\"earnings\"),2).alias(\"earnings-percent\"))\\\n",
    ".orderBy(\"earnings-percent\", ascending=False).show(1)"
   ]
  },
  {
   "cell_type": "code",
   "execution_count": 9,
   "metadata": {},
   "outputs": [
    {
     "name": "stdout",
     "output_type": "stream",
     "text": [
      "+------------------+-------------------+\n",
      "|              race|              ratio|\n",
      "+------------------+-------------------+\n",
      "|             Other| 0.6728395061728395|\n",
      "|Amer-Indian-Eskimo| 0.6197916666666666|\n",
      "|             White|0.45071450923125067|\n",
      "|Asian-Pac-Islander|0.49927849927849927|\n",
      "|             Black| 0.9910771191841937|\n",
      "+------------------+-------------------+\n",
      "\n"
     ]
    }
   ],
   "source": [
    "# 5 W podziale ze względu na zmienną race oblicz stosunek liczby kobiet do mężczyzn\n",
    "df.select(\"race\", f.when(f.col(\"sex\") == \"Male\", 1).otherwise(0).alias(\"M\"), \n",
    "          f.when(f.col(\"sex\") == \"Female\", 1).otherwise(0).alias(\"F\"))\\\n",
    ".groupBy(\"race\").agg((f.sum(\"F\") / f.sum(\"M\")).alias(\"ratio\")).show()"
   ]
  },
  {
   "cell_type": "code",
   "execution_count": 10,
   "metadata": {},
   "outputs": [
    {
     "name": "stdout",
     "output_type": "stream",
     "text": [
      "+------------------+---------+---------+\n",
      "|              race|F-percent|M-percent|\n",
      "+------------------+---------+---------+\n",
      "|             Other|      0.4|      0.6|\n",
      "|Amer-Indian-Eskimo|     0.38|     0.62|\n",
      "|             White|     0.31|     0.69|\n",
      "|Asian-Pac-Islander|     0.33|     0.67|\n",
      "|             Black|      0.5|      0.5|\n",
      "+------------------+---------+---------+\n",
      "\n"
     ]
    }
   ],
   "source": [
    "# 5.1\n",
    "df.select(\"race\", f.when(f.col(\"sex\") == \"Male\", 1).otherwise(0).alias(\"M\"), \n",
    "          f.when(f.col(\"sex\") == \"Female\", 1).otherwise(0).alias(\"F\"))\\\n",
    ".groupBy(\"race\").agg(f.round(f.avg(\"F\"),2).alias(\"F-percent\"), \n",
    "                     f.round(f.avg(\"M\"),2).alias(\"M-percent\")).show()"
   ]
  },
  {
   "cell_type": "code",
   "execution_count": 11,
   "metadata": {},
   "outputs": [
    {
     "name": "stdout",
     "output_type": "stream",
     "text": [
      "+------------+-------------------+\n",
      "|capital-gain|avg(hours-per-week)|\n",
      "+------------+-------------------+\n",
      "|   with-gain|  43.51032448377581|\n",
      "|     no-gain| 40.158263258400616|\n",
      "+------------+-------------------+\n",
      "\n"
     ]
    }
   ],
   "source": [
    "# 6 Oblicz różnicę pomiędzy średnim czasem pracy osób uzyskujących capital-gain a resztą populacji\n",
    "df.select(\"hours-per-week\", f.when(f.col(\"capital-gain\") !=0, \"with-gain\")\\\n",
    "          .otherwise(\"no-gain\").alias(\"capital-gain\")).groupBy(f.col(\"capital-gain\"))\\\n",
    ".agg(f.avg(\"hours-per-week\")).show(5)"
   ]
  },
  {
   "cell_type": "code",
   "execution_count": 14,
   "metadata": {},
   "outputs": [
    {
     "name": "stderr",
     "output_type": "stream",
     "text": [
      "[Stage 60:============================================>         (163 + 4) / 200]\r"
     ]
    },
    {
     "name": "stdout",
     "output_type": "stream",
     "text": [
      "+---------+---+-----------------+-------------------+\n",
      "|education|age|          avg-age|     age-difference|\n",
      "+---------+---+-----------------+-------------------+\n",
      "|     10th| 58|37.42979635584137|  20.57020364415863|\n",
      "|     10th| 55|37.42979635584137|  17.57020364415863|\n",
      "|     10th| 27|37.42979635584137|-10.429796355841368|\n",
      "|     10th| 25|37.42979635584137|-12.429796355841368|\n",
      "|     10th| 59|37.42979635584137|  21.57020364415863|\n",
      "|     10th| 36|37.42979635584137|-1.4297963558413684|\n",
      "|     10th| 33|37.42979635584137| -4.429796355841368|\n",
      "|     10th| 67|37.42979635584137|  29.57020364415863|\n",
      "|     10th| 17|37.42979635584137| -20.42979635584137|\n",
      "|     10th| 60|37.42979635584137|  22.57020364415863|\n",
      "+---------+---+-----------------+-------------------+\n",
      "only showing top 10 rows\n",
      "\n"
     ]
    },
    {
     "name": "stderr",
     "output_type": "stream",
     "text": [
      "                                                                                \r"
     ]
    }
   ],
   "source": [
    "# 7 Oblicz róznicę wieku do średniego wieku osób z danym poziomem wykształcenia\n",
    "wndw = Window.partitionBy(\"education\")\n",
    "\n",
    "df.select(\"education\", \"age\", f.avg(\"age\").over(wndw).alias(\"avg-age\"),\\\n",
    "          (f.col(\"age\") - f.avg(\"age\").over(wndw)).alias(\"age-difference\")).orderBy(\"education\").show(10)"
   ]
  }
 ],
 "metadata": {
  "kernelspec": {
   "display_name": "Python 3 (ipykernel)",
   "language": "python",
   "name": "python3"
  },
  "language_info": {
   "codemirror_mode": {
    "name": "ipython",
    "version": 3
   },
   "file_extension": ".py",
   "mimetype": "text/x-python",
   "name": "python",
   "nbconvert_exporter": "python",
   "pygments_lexer": "ipython3",
   "version": "3.9.5"
  }
 },
 "nbformat": 4,
 "nbformat_minor": 2
}
