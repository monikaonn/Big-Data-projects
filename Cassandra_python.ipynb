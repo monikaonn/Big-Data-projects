{
 "cells": [
  {
   "cell_type": "code",
   "execution_count": 2,
   "id": "e0a8979d",
   "metadata": {},
   "outputs": [],
   "source": [
    "import cassandra\n",
    "from cassandra.cluster import Cluster\n",
    "from cassandra.query import SimpleStatement\n",
    "from cassandra import ConsistencyLevel"
   ]
  },
  {
   "cell_type": "code",
   "execution_count": 3,
   "id": "df177285",
   "metadata": {},
   "outputs": [],
   "source": [
    "cluster = Cluster([\"127.0.0.1\"])\n",
    "session = cluster.connect()\n",
    "session.set_keyspace(\"ex1\")"
   ]
  },
  {
   "cell_type": "code",
   "execution_count": 4,
   "id": "3d7cceb7",
   "metadata": {},
   "outputs": [
    {
     "name": "stdout",
     "output_type": "stream",
     "text": [
      "Zawodnik pcmanus uzyskal 2000 w roku 2015\n",
      "Zawodnik pcmanus uzyskal 3000 w roku 2020\n",
      "Zawodnik pcmanus uzyskal 3000 w roku 2020\n",
      "Row(user='pcmanus', game='Coup', year=2015, address=OrderedMapSerializedKey([('home', 'Warsaw'), ('work', 'Piaseczno')]), detailed_scores=OrderedMapSerializedKey([('game1', [1, 2, 3, 4]), ('game2', [40, 50, 60])]), detailed_scores3=OrderedMapSerializedKey([('game1', SortedSet([1, 2, 3, 4])), ('game2', SortedSet([40, 50, 60]))]), score=2000)\n",
      "Row(user='pcmanus', game='Coup', year=2020, address=None, detailed_scores=None, detailed_scores3=None, score=3000)\n",
      "Row(user='pcmanus', game='Coup2020', year=2020, address=None, detailed_scores=None, detailed_scores3=None, score=3000)\n"
     ]
    }
   ],
   "source": [
    "# Depricated\n",
    "# session.default_consistency_level = ConsistencyLevel.ONE\n",
    "player = \"pcmanus\"\n",
    "\n",
    "results = session.execute(\"SELECT * FROM scores WHERE user= %(plr)s limit 10\", {\"plr\": player})\n",
    "for row in results:\n",
    "    print(f\"Zawodnik {row.user} uzyskal {row.score} w roku {row.year}\")\n",
    "    \n",
    "stmt = SimpleStatement(\"SELECT * FROM scores WHERE user=%s\",\n",
    "                      consistency_level=ConsistencyLevel.QUORUM)\n",
    "results = session.execute(stmt, [player])\n",
    "for row in results:\n",
    "    print(row)"
   ]
  },
  {
   "cell_type": "code",
   "execution_count": 5,
   "id": "659ae365",
   "metadata": {},
   "outputs": [],
   "source": [
    "stmt = SimpleStatement(\"INSERT INTO scores (user, game, year, score) values (%s, %s, %s, %s)\")\n",
    "result = session.execute(stmt, [\"pcmanus\", \"Coup\", 2020, 3000])"
   ]
  },
  {
   "cell_type": "code",
   "execution_count": 38,
   "id": "28e788e3",
   "metadata": {},
   "outputs": [],
   "source": [
    "for row in result:\n",
    "    print(row)"
   ]
  },
  {
   "cell_type": "code",
   "execution_count": 40,
   "id": "a318cadc",
   "metadata": {},
   "outputs": [
    {
     "name": "stdout",
     "output_type": "stream",
     "text": [
      "Piaseczno\n"
     ]
    }
   ],
   "source": [
    "session.execute(\"ALTER TABLE scores ADD address map<text, text>\")\n",
    "address = {\n",
    "    'home': 'Warsaw',\n",
    "    'work': 'Piaseczno'\n",
    "}\n",
    "session.execute(\"UPDATE scores SET address = %s WHERE user='pcmanus' AND game='Coup' AND year=2015\", [address])\n",
    "\n",
    "results = session.execute(\"SELECT address FROM scores WHERE user='pcmanus'\")\n",
    "for row in results:\n",
    "    if row.address is None:\n",
    "        continue\n",
    "    print(row.address['work'])"
   ]
  },
  {
   "cell_type": "code",
   "execution_count": 49,
   "id": "5de095b1",
   "metadata": {},
   "outputs": [
    {
     "name": "stdout",
     "output_type": "stream",
     "text": [
      "{'game1': [1, 2, 3, 4], 'game2': [40, 50, 60]}\n"
     ]
    }
   ],
   "source": [
    "# session.execute(\"alter table scores drop detailed_scores\")\n",
    "session.execute(\"ALTER TABLE scores ADD detailed_scores map<text, frozen<list<int>>>\")\n",
    "detailed_scores = {\n",
    "    'game1': [1,2,3,4],\n",
    "    'game2': [40,50,60]\n",
    "}\n",
    "session.execute(\"UPDATE scores SET detailed_scores = %s WHERE user='pcmanus' AND game='Coup' AND year=2015\", [detailed_scores])\n",
    "\n",
    "results = session.execute(\"SELECT detailed_scores FROM scores WHERE user='pcmanus'\")\n",
    "for row in results:\n",
    "    if row.detailed_scores is None:\n",
    "        continue\n",
    "    print(row.detailed_scores)"
   ]
  },
  {
   "cell_type": "code",
   "execution_count": 58,
   "id": "c15da389",
   "metadata": {},
   "outputs": [
    {
     "name": "stdout",
     "output_type": "stream",
     "text": [
      "{'game1': SortedSet([1, 2, 3, 4]), 'game2': SortedSet([40, 50, 60])}\n"
     ]
    }
   ],
   "source": [
    "# session.execute(\"alter table scores drop detailed_scores\")\n",
    "session.execute(\"ALTER TABLE scores ADD detailed_scores3 map<text, frozen<set<int>>>\")\n",
    "detailed_scores = {\n",
    "    'game1': {1,2,3,4, 4},\n",
    "    'game2': {40,50,60, 60}\n",
    "}\n",
    "session.execute(\"UPDATE scores SET detailed_scores3 = %s WHERE user='pcmanus' AND game='Coup' AND year=2015\", [detailed_scores])\n",
    "\n",
    "results = session.execute(\"SELECT detailed_scores3 FROM scores WHERE user='pcmanus'\")\n",
    "for row in results:\n",
    "    if row.detailed_scores3 is None:\n",
    "        continue\n",
    "    print(row.detailed_scores3)"
   ]
  },
  {
   "cell_type": "code",
   "execution_count": 9,
   "id": "0d41f8a0",
   "metadata": {},
   "outputs": [
    {
     "name": "stdout",
     "output_type": "stream",
     "text": [
      "Row(applied=False, user='pcmanus', game='Coup', year=2015, address=OrderedMapSerializedKey([('home', 'Warsaw'), ('work', 'Piaseczno')]), detailed_scores=OrderedMapSerializedKey([('game1', [1, 2, 3, 4]), ('game2', [40, 50, 60])]), detailed_scores3=OrderedMapSerializedKey([('game1', SortedSet([1, 2, 3, 4])), ('game2', SortedSet([40, 50, 60]))]), score=3000)\n"
     ]
    }
   ],
   "source": [
    "arg = (\"pcmanus\", \"Coup\", 2015, 6000)\n",
    "result = session.execute(\"INSERT INTO scores (user, game, year, score) VALUES (%s, %s, %s, %s) IF NOT EXISTS\", arg)\n",
    "for row in result:\n",
    "    print(row)"
   ]
  },
  {
   "cell_type": "code",
   "execution_count": 11,
   "id": "33f147bf",
   "metadata": {},
   "outputs": [
    {
     "name": "stdout",
     "output_type": "stream",
     "text": [
      "False\n",
      "Row(applied=False, user='pcmanus', game='Coup', year=2015, address=OrderedMapSerializedKey([('home', 'Warsaw'), ('work', 'Piaseczno')]), detailed_scores=OrderedMapSerializedKey([('game1', [1, 2, 3, 4]), ('game2', [40, 50, 60])]), detailed_scores3=OrderedMapSerializedKey([('game1', SortedSet([1, 2, 3, 4])), ('game2', SortedSet([40, 50, 60]))]), score=3000)\n"
     ]
    }
   ],
   "source": [
    "arg = (\"pcmanus\", \"Coup\", 2015, 6000)\n",
    "result = session.execute(\"INSERT INTO scores (user, game, year, score) VALUES (%s, %s, %s, %s) IF NOT EXISTS\", arg)\n",
    "for row in result:\n",
    "    print(row.applied)\n",
    "    print(row)"
   ]
  },
  {
   "cell_type": "code",
   "execution_count": 14,
   "id": "7568e442",
   "metadata": {},
   "outputs": [
    {
     "name": "stdout",
     "output_type": "stream",
     "text": [
      "INSERT False\n",
      "INSERT Row(applied=False, user='pcmanus', game='Coup', year=2016, address=None, detailed_scores=None, detailed_scores3=None, score=6000)\n"
     ]
    }
   ],
   "source": [
    "arg = (\"pcmanus\", \"Coup\", 2016, 6000)\n",
    "result = session.execute(\"INSERT INTO scores (user, game, year, score) VALUES (%s, %s, %s, %s) IF NOT EXISTS\", arg)\n",
    "for row in result:\n",
    "    print(\"INSERT\", row.applied)\n",
    "    print(\"INSERT\", row)"
   ]
  },
  {
   "cell_type": "code",
   "execution_count": 13,
   "id": "f121075d",
   "metadata": {},
   "outputs": [
    {
     "name": "stdout",
     "output_type": "stream",
     "text": [
      "Row(user='pcmanus', game='Coup', year=2015, address=OrderedMapSerializedKey([('home', 'Warsaw'), ('work', 'Piaseczno')]), detailed_scores=OrderedMapSerializedKey([('game1', [1, 2, 3, 4]), ('game2', [40, 50, 60])]), detailed_scores3=OrderedMapSerializedKey([('game1', SortedSet([1, 2, 3, 4])), ('game2', SortedSet([40, 50, 60]))]), score=3000)\n",
      "Row(user='pcmanus', game='Coup', year=2016, address=None, detailed_scores=None, detailed_scores3=None, score=6000)\n",
      "Row(user='pcmanus', game='Coup', year=2020, address=None, detailed_scores=None, detailed_scores3=None, score=3000)\n",
      "Row(user='pcmanus', game='Coup2020', year=2020, address=None, detailed_scores=None, detailed_scores3=None, score=3000)\n"
     ]
    }
   ],
   "source": [
    "stmt = SimpleStatement(\"SELECT * FROM scores WHERE user=%s\")\n",
    "results = session.execute(stmt, [\"pcmanus\"])\n",
    "for row in results:\n",
    "    print(row)"
   ]
  },
  {
   "cell_type": "code",
   "execution_count": 19,
   "id": "38ba0c0a",
   "metadata": {},
   "outputs": [
    {
     "name": "stdout",
     "output_type": "stream",
     "text": [
      "INSERT True\n",
      "INSERT Row(applied=True)\n",
      "DELETE True\n",
      "DELETE Row(applied=True)\n"
     ]
    }
   ],
   "source": [
    "arg = (\"pcmanus\", \"Coup\", 2016, 6000)\n",
    "result = session.execute(\"INSERT INTO scores (user, game, year, score) VALUES (%s, %s, %s, %s) IF NOT EXISTS\", arg)\n",
    "for row in result:\n",
    "    print(\"INSERT\", row.applied)\n",
    "    print(\"INSERT\", row)\n",
    "\n",
    "    \n",
    "arg = (\"pcmanus\", \"Coup\", 2016)\n",
    "result = session.execute(\"DELETE FROM scores WHERE user=%s AND game=%s AND year=%s IF EXISTS\", arg)\n",
    "for row in result:\n",
    "    print(\"DELETE\", row.applied)\n",
    "    print(\"DELETE\", row)"
   ]
  },
  {
   "cell_type": "markdown",
   "id": "fa3c7a4d",
   "metadata": {},
   "source": [
    "**Wywołania asynchroniczne**"
   ]
  },
  {
   "cell_type": "code",
   "execution_count": 20,
   "id": "9b854710",
   "metadata": {},
   "outputs": [
    {
     "name": "stdout",
     "output_type": "stream",
     "text": [
      "Row(user='pcmanus', game='Coup', year=2015, address=OrderedMapSerializedKey([('home', 'Warsaw'), ('work', 'Piaseczno')]), detailed_scores=OrderedMapSerializedKey([('game1', [1, 2, 3, 4]), ('game2', [40, 50, 60])]), detailed_scores3=OrderedMapSerializedKey([('game1', SortedSet([1, 2, 3, 4])), ('game2', SortedSet([40, 50, 60]))]), score=3000)\n",
      "Row(user='pcmanus', game='Coup', year=2020, address=None, detailed_scores=None, detailed_scores3=None, score=3000)\n",
      "Row(user='pcmanus', game='Coup2020', year=2020, address=None, detailed_scores=None, detailed_scores3=None, score=3000)\n",
      "Row(user='tjake', game='Coup', year=2015, address=None, detailed_scores=None, detailed_scores3=None, score=1000)\n",
      "Row(user='yukim', game='Coup', year=2015, address=None, detailed_scores=None, detailed_scores3=None, score=2250)\n",
      "Row(user='jbellis', game='Coup', year=2015, address=None, detailed_scores=None, detailed_scores3=None, score=1750)\n"
     ]
    }
   ],
   "source": [
    "players = [\n",
    "    'pcmanus', 'tjake', 'yukim', 'jbellis'\n",
    "]\n",
    "for player in players:\n",
    "    result = session.execute(\"SELECT * FROM scores WHERE user=%s\", [player])\n",
    "    for row in result:\n",
    "        print(row)"
   ]
  },
  {
   "cell_type": "code",
   "execution_count": 27,
   "id": "97f41ce4",
   "metadata": {},
   "outputs": [
    {
     "name": "stdout",
     "output_type": "stream",
     "text": [
      "Row(user='pcmanus', game='Coup', year=2015, address=OrderedMapSerializedKey([('home', 'Warsaw'), ('work', 'Piaseczno')]), detailed_scores=OrderedMapSerializedKey([('game1', [1, 2, 3, 4]), ('game2', [40, 50, 60])]), detailed_scores3=OrderedMapSerializedKey([('game1', SortedSet([1, 2, 3, 4])), ('game2', SortedSet([40, 50, 60]))]), score=3000)\n",
      "Row(user='pcmanus', game='Coup', year=2020, address=None, detailed_scores=None, detailed_scores3=None, score=3000)\n",
      "Row(user='pcmanus', game='Coup2020', year=2020, address=None, detailed_scores=None, detailed_scores3=None, score=3000)\n",
      "Row(user='tjake', game='Coup', year=2015, address=None, detailed_scores=None, detailed_scores3=None, score=1000)\n",
      "Row(user='yukim', game='Coup', year=2015, address=None, detailed_scores=None, detailed_scores3=None, score=2250)\n",
      "Row(user='jbellis', game='Coup', year=2015, address=None, detailed_scores=None, detailed_scores3=None, score=1750)\n",
      "TOOK 11.552810668945312 ms\n"
     ]
    }
   ],
   "source": [
    "from time import time\n",
    "\n",
    "players = [\n",
    "    'pcmanus', 'tjake', 'yukim', 'jbellis'\n",
    "]\n",
    "start = time()\n",
    "for player in players:\n",
    "    result = session.execute(\"SELECT * FROM scores WHERE user=%s\", [player])\n",
    "    for row in result:\n",
    "        print(row)\n",
    "took = time() - start\n",
    "print(\"TOOK\", took * 1000, \"ms\")"
   ]
  },
  {
   "cell_type": "code",
   "execution_count": 28,
   "id": "30453832",
   "metadata": {},
   "outputs": [
    {
     "name": "stdout",
     "output_type": "stream",
     "text": [
      "Execute pcmanus\n",
      "Execute tjake\n",
      "Execute yukim\n",
      "Execute jbellis\n",
      "TOOK 1.375436782836914 ms\n",
      "Row(user='pcmanus', game='Coup', year=2015, address=OrderedMapSerializedKey([('home', 'Warsaw'), ('work', 'Piaseczno')]), detailed_scores=OrderedMapSerializedKey([('game1', [1, 2, 3, 4]), ('game2', [40, 50, 60])]), detailed_scores3=OrderedMapSerializedKey([('game1', SortedSet([1, 2, 3, 4])), ('game2', SortedSet([40, 50, 60]))]), score=3000)\n",
      "Row(user='pcmanus', game='Coup', year=2020, address=None, detailed_scores=None, detailed_scores3=None, score=3000)\n",
      "Row(user='pcmanus', game='Coup2020', year=2020, address=None, detailed_scores=None, detailed_scores3=None, score=3000)\n",
      "Row(user='yukim', game='Coup', year=2015, address=None, detailed_scores=None, detailed_scores3=None, score=2250)\n",
      "Row(user='jbellis', game='Coup', year=2015, address=None, detailed_scores=None, detailed_scores3=None, score=1750)\n",
      "Row(user='tjake', game='Coup', year=2015, address=None, detailed_scores=None, detailed_scores3=None, score=1000)\n"
     ]
    }
   ],
   "source": [
    "players = [\n",
    "    'pcmanus', 'tjake', 'yukim', 'jbellis'\n",
    "]\n",
    "start = time()\n",
    "\n",
    "def data(result):\n",
    "    for row in result:\n",
    "        print(row)\n",
    "        \n",
    "def errback(err):\n",
    "    print(err)\n",
    "\n",
    "for player in players:\n",
    "    print(\"Execute\", player)\n",
    "    future = session.execute_async(\"SELECT * FROM scores WHERE user=%s\", [player])\n",
    "    future.add_callbacks(data, errback)\n",
    "took = time() - start\n",
    "print(\"TOOK\", took * 1000, \"ms\")"
   ]
  },
  {
   "cell_type": "code",
   "execution_count": 30,
   "id": "da50d03f",
   "metadata": {},
   "outputs": [
    {
     "name": "stdout",
     "output_type": "stream",
     "text": [
      "TOOK 0.6361007690429688 ms\n",
      "GOT 4.67371940612793 ms\n",
      "GOT 6.336688995361328 ms\n",
      "GOT 7.139444351196289 ms\n",
      "GOT 8.101463317871094 ms\n"
     ]
    }
   ],
   "source": [
    "players = [\n",
    "    'pcmanus', 'tjake', 'yukim', 'jbellis'\n",
    "]\n",
    "start = time()\n",
    "\n",
    "def data(result):\n",
    "    took = time() - start\n",
    "    print(\"GOT\", took * 1000, \"ms\")\n",
    "        \n",
    "def errback(err):\n",
    "    print(err)\n",
    "\n",
    "for player in players:\n",
    "    future = session.execute_async(\"SELECT * FROM scores WHERE user=%s\", [player])\n",
    "    future.add_callbacks(data, errback)\n",
    "took = time() - start\n",
    "print(\"TOOK\", took * 1000, \"ms\")"
   ]
  },
  {
   "cell_type": "code",
   "execution_count": null,
   "id": "0c038cc7",
   "metadata": {},
   "outputs": [],
   "source": []
  }
 ],
 "metadata": {
  "kernelspec": {
   "display_name": "Python 3 (ipykernel)",
   "language": "python",
   "name": "python3"
  },
  "language_info": {
   "codemirror_mode": {
    "name": "ipython",
    "version": 3
   },
   "file_extension": ".py",
   "mimetype": "text/x-python",
   "name": "python",
   "nbconvert_exporter": "python",
   "pygments_lexer": "ipython3",
   "version": "3.8.10"
  }
 },
 "nbformat": 4,
 "nbformat_minor": 5
}
